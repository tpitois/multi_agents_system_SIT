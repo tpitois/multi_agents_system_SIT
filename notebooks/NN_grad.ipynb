{
 "cells": [
  {
   "metadata": {},
   "cell_type": "markdown",
   "source": [
    "The purpose of this notebook is to find the maximum of a function $J(\\phi(x))$, where $\\phi(x)$ is the output of a neural network, using automatic differentiation.\n",
    "Here $J(a, b)=a-a^2+b-b^2+ab$ and $\\phi(x_1, x_2)=(x_1-x_2, x_1+x_2)$, thus $J(\\phi(x))$ has only one maximum reached for $x=(1, 0)$"
   ],
   "id": "842d4c4f12325736"
  },
  {
   "metadata": {
    "ExecuteTime": {
     "end_time": "2025-05-16T09:26:54.250942Z",
     "start_time": "2025-05-16T09:26:51.677912Z"
    }
   },
   "cell_type": "code",
   "source": [
    "import numpy as np\n",
    "import tensorflow as tf\n",
    "\n",
    "from keras.models import Sequential\n",
    "from keras.layers import Dense"
   ],
   "id": "ea4a095d5e3f1e01",
   "outputs": [
    {
     "name": "stderr",
     "output_type": "stream",
     "text": [
      "2025-05-16 09:26:52.036966: I tensorflow/core/util/port.cc:153] oneDNN custom operations are on. You may see slightly different numerical results due to floating-point round-off errors from different computation orders. To turn them off, set the environment variable `TF_ENABLE_ONEDNN_OPTS=0`.\n",
      "2025-05-16 09:26:52.080309: I tensorflow/core/platform/cpu_feature_guard.cc:210] This TensorFlow binary is optimized to use available CPU instructions in performance-critical operations.\n",
      "To enable the following instructions: AVX2 AVX512F AVX512_VNNI AVX512_BF16 AVX512_FP16 AVX_VNNI AMX_TILE AMX_INT8 AMX_BF16 FMA, in other operations, rebuild TensorFlow with the appropriate compiler flags.\n"
     ]
    },
    {
     "ename": "AttributeError",
     "evalue": "'MessageFactory' object has no attribute 'GetPrototype'",
     "output_type": "error",
     "traceback": [
      "\u001B[31m---------------------------------------------------------------------------\u001B[39m",
      "\u001B[31mAttributeError\u001B[39m                            Traceback (most recent call last)",
      "\u001B[31mAttributeError\u001B[39m: 'MessageFactory' object has no attribute 'GetPrototype'"
     ]
    },
    {
     "name": "stderr",
     "output_type": "stream",
     "text": [
      "2025-05-16 09:26:53.313895: I tensorflow/core/util/port.cc:153] oneDNN custom operations are on. You may see slightly different numerical results due to floating-point round-off errors from different computation orders. To turn them off, set the environment variable `TF_ENABLE_ONEDNN_OPTS=0`.\n"
     ]
    }
   ],
   "execution_count": 2
  },
  {
   "metadata": {
    "ExecuteTime": {
     "end_time": "2025-05-16T09:26:54.898582Z",
     "start_time": "2025-05-16T09:26:54.894787Z"
    }
   },
   "cell_type": "code",
   "source": [
    "N = 10000\n",
    "X = np.random.random((N, 2))\n",
    "Y = np.zeros_like(X)\n",
    "Y[:, 0] = X[:, 0] - X[:, 1]\n",
    "Y[:, 1] = X[:, 0] + X[:, 1]"
   ],
   "id": "b99a2ba1ffd55994",
   "outputs": [],
   "execution_count": 3
  },
  {
   "metadata": {
    "ExecuteTime": {
     "end_time": "2025-05-16T09:26:57.386310Z",
     "start_time": "2025-05-16T09:26:57.289789Z"
    }
   },
   "cell_type": "code",
   "source": [
    "model = Sequential([Dense(2, input_shape=(2,))])\n",
    "model.compile(optimizer='adam', loss='mse')"
   ],
   "id": "e146766d274fb79a",
   "outputs": [
    {
     "name": "stderr",
     "output_type": "stream",
     "text": [
      "/home/pits/multi_agents_system_SIT/.venv/lib/python3.11/site-packages/keras/src/layers/core/dense.py:93: UserWarning: Do not pass an `input_shape`/`input_dim` argument to a layer. When using Sequential models, prefer using an `Input(shape)` object as the first layer in the model instead.\n",
      "  super().__init__(activity_regularizer=activity_regularizer, **kwargs)\n",
      "2025-05-16 09:26:57.300837: E external/local_xla/xla/stream_executor/cuda/cuda_platform.cc:51] failed call to cuInit: INTERNAL: CUDA error: Failed call to cuInit: CUDA_ERROR_NO_DEVICE: no CUDA-capable device is detected\n",
      "2025-05-16 09:26:57.300868: I external/local_xla/xla/stream_executor/cuda/cuda_diagnostics.cc:171] verbose logging is disabled. Rerun with verbose logging (usually --v=1 or --vmodule=cuda_diagnostics=1) to get more diagnostic output from this module\n",
      "2025-05-16 09:26:57.300873: I external/local_xla/xla/stream_executor/cuda/cuda_diagnostics.cc:176] retrieving CUDA diagnostic information for host: 53a70ea1e15d\n",
      "2025-05-16 09:26:57.300876: I external/local_xla/xla/stream_executor/cuda/cuda_diagnostics.cc:183] hostname: 53a70ea1e15d\n",
      "2025-05-16 09:26:57.301085: I external/local_xla/xla/stream_executor/cuda/cuda_diagnostics.cc:190] libcuda reported version is: 545.23.6\n",
      "2025-05-16 09:26:57.301095: I external/local_xla/xla/stream_executor/cuda/cuda_diagnostics.cc:194] kernel reported version is: 535.230.2\n",
      "2025-05-16 09:26:57.301097: E external/local_xla/xla/stream_executor/cuda/cuda_diagnostics.cc:287] kernel version 535.230.2 does not match DSO version 545.23.6 -- cannot find working devices in this configuration\n"
     ]
    }
   ],
   "execution_count": 4
  },
  {
   "metadata": {
    "ExecuteTime": {
     "end_time": "2025-05-16T09:27:21.301428Z",
     "start_time": "2025-05-16T09:27:11.556787Z"
    }
   },
   "cell_type": "code",
   "source": "model.fit(X, Y, epochs=50, verbose=False)",
   "id": "baa8e8f1dec2d81a",
   "outputs": [
    {
     "data": {
      "text/plain": [
       "<keras.src.callbacks.history.History at 0x7e9a31793410>"
      ]
     },
     "execution_count": 5,
     "metadata": {},
     "output_type": "execute_result"
    }
   ],
   "execution_count": 5
  },
  {
   "metadata": {
    "ExecuteTime": {
     "end_time": "2025-05-16T09:27:54.432046Z",
     "start_time": "2025-05-16T09:27:54.427960Z"
    }
   },
   "cell_type": "code",
   "source": [
    "def get_grad(x1, x2):\n",
    "    with tf.GradientTape() as tape:\n",
    "        a, b = model(tf.reshape([x1, x2], [1, 2]))[0]\n",
    "        z = a - a*a + b - b*b + a*b\n",
    "    return tape.gradient(z, {\"x1\": x1, \"x2\": x2})\n"
   ],
   "id": "de28fa8731760d0b",
   "outputs": [],
   "execution_count": 6
  },
  {
   "metadata": {
    "ExecuteTime": {
     "end_time": "2025-05-16T09:28:08.295830Z",
     "start_time": "2025-05-16T09:28:05.659758Z"
    }
   },
   "cell_type": "code",
   "source": [
    "x1 = tf.Variable(10.0)\n",
    "x2 = tf.Variable(20.0)\n",
    "learning_rate = 0.01\n",
    "for _ in range(1000):\n",
    "    grad = get_grad(x1, x2)\n",
    "    x1.assign_add(learning_rate*grad[\"x1\"])\n",
    "    x2.assign_add(learning_rate*grad[\"x2\"])\n",
    "print(x1, x2)"
   ],
   "id": "72a8d72af4bfab65",
   "outputs": [
    {
     "name": "stdout",
     "output_type": "stream",
     "text": [
      "<tf.Variable 'Variable:0' shape=() dtype=float32, numpy=1.0000028610229492> <tf.Variable 'Variable:0' shape=() dtype=float32, numpy=5.657527069047319e-08>\n"
     ]
    }
   ],
   "execution_count": 8
  }
 ],
 "metadata": {
  "kernelspec": {
   "display_name": "Python 3",
   "language": "python",
   "name": "python3"
  },
  "language_info": {
   "codemirror_mode": {
    "name": "ipython",
    "version": 2
   },
   "file_extension": ".py",
   "mimetype": "text/x-python",
   "name": "python",
   "nbconvert_exporter": "python",
   "pygments_lexer": "ipython2",
   "version": "2.7.6"
  }
 },
 "nbformat": 4,
 "nbformat_minor": 5
}
