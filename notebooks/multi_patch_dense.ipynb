{
 "cells": [
  {
   "cell_type": "code",
   "id": "initial_id",
   "metadata": {
    "collapsed": true,
    "ExecuteTime": {
     "end_time": "2025-04-28T09:00:32.640066Z",
     "start_time": "2025-04-28T09:00:27.540680Z"
    }
   },
   "source": [
    "import os\n",
    "import numpy as np\n",
    "import pandas as pd\n",
    "import matplotlib.pyplot as plt\n",
    "from IPython.core.pylabtools import figsize\n",
    "\n",
    "from keras.models import Sequential, Model\n",
    "from keras.layers import Dense, Input, GRU, Dropout\n",
    "from keras.callbacks import ModelCheckpoint\n",
    "from keras.saving import load_model\n",
    "from keras.src.layers import concatenate\n",
    "\n",
    "from sklearn.preprocessing import MinMaxScaler\n",
    "\n",
    "from scripts.process_dataset import read_dataset, read_simulation\n",
    "from utils import draw_prediction, plot_loss"
   ],
   "outputs": [
    {
     "name": "stderr",
     "output_type": "stream",
     "text": [
      "2025-04-28 11:00:29.181013: I tensorflow/core/platform/cpu_feature_guard.cc:210] This TensorFlow binary is optimized to use available CPU instructions in performance-critical operations.\n",
      "To enable the following instructions: AVX2 FMA, in other operations, rebuild TensorFlow with the appropriate compiler flags.\n"
     ]
    }
   ],
   "execution_count": 1
  },
  {
   "metadata": {
    "ExecuteTime": {
     "end_time": "2025-04-27T18:02:33.817967Z",
     "start_time": "2025-04-27T18:02:33.807038Z"
    }
   },
   "cell_type": "code",
   "source": [
    "def predict(X, models, scaler):\n",
    "    \"\"\"\n",
    "    scaler = MinMaxScaler(feature_range=(0, 1))\n",
    "    scaler.fit(X)\n",
    "    \"\"\"\n",
    "    X_trans = scaler.transform(X)\n",
    "    Y_pred_trans = np.concatenate([model.predict(X_trans, verbose=0) for model in models], axis=1)\n",
    "    Y_pred_trans_extended = np.concatenate([Y_pred_trans, np.zeros((Y_pred_trans.shape[0], X.shape[1]-Y_pred_trans.shape[1]))], axis=1)\n",
    "    Y_pred = scaler.inverse_transform(Y_pred_trans_extended)[:, :Y_pred_trans.shape[1]]\n",
    "    return Y_pred"
   ],
   "id": "fabf56b719db6912",
   "outputs": [],
   "execution_count": 4
  },
  {
   "metadata": {
    "ExecuteTime": {
     "end_time": "2025-04-27T18:02:38.217639Z",
     "start_time": "2025-04-27T18:02:38.210932Z"
    }
   },
   "cell_type": "code",
   "source": [
    "def next_state(state, next_sterile_pop, model):\n",
    "    return np.concatenate([model.predict(state, verbose=0)] + [next_sterile_pop], axis=1).reshape(1, -1)"
   ],
   "id": "70d0ee2f4e732d94",
   "outputs": [],
   "execution_count": 5
  },
  {
   "metadata": {
    "ExecuteTime": {
     "end_time": "2025-04-27T18:03:10.601392Z",
     "start_time": "2025-04-27T18:03:10.593432Z"
    }
   },
   "cell_type": "code",
   "source": [
    "def moving_predict(X, model, scaler):\n",
    "    X_trans = scaler.transform(X)\n",
    "    initial_state = X_trans[0:1, :]\n",
    "    sterile_pop = X_trans[:, 70:]\n",
    "    states = [initial_state]\n",
    "    last_state = initial_state\n",
    "    for i in range(X.shape[0]-1):\n",
    "        print(i)\n",
    "        last_state = next_state(last_state, sterile_pop[i+1:i+2, :], model)\n",
    "        states.append(last_state)\n",
    "    Y_pred_trans = np.concatenate(states, axis=0)[:70]\n",
    "    Y_pred_trans_extended = np.concatenate([Y_pred_trans, np.zeros((Y_pred_trans.shape[0], X.shape[1]-Y_pred_trans.shape[1]))], axis=1)\n",
    "    Y_pred = scaler.inverse_transform(Y_pred_trans_extended)[:, :Y_pred_trans.shape[1]]\n",
    "    return Y_pred"
   ],
   "id": "1859824050b2df82",
   "outputs": [],
   "execution_count": 7
  },
  {
   "metadata": {
    "ExecuteTime": {
     "end_time": "2025-04-28T09:02:29.054182Z",
     "start_time": "2025-04-28T09:02:27.661799Z"
    }
   },
   "cell_type": "code",
   "source": [
    "DATASET_NAME = \"B\"\n",
    "N_NEURAL = 32\n",
    "DATASET_PATH = f\"../dataset/{DATASET_NAME}\"\n",
    "X, Y = read_dataset(f\"{DATASET_PATH}/train\")\n",
    "X = X.reshape((X.shape[0], X.shape[2]))\n",
    "Y_extended = np.c_[Y, np.zeros((Y.shape[0], X.shape[1]-Y.shape[1]))]\n",
    "scaler = MinMaxScaler(feature_range=(0, 1))\n",
    "scaler.fit(X)\n",
    "X_trans = scaler.transform(X)\n",
    "Y_trans = scaler.transform(Y_extended)[:, :Y.shape[1]]"
   ],
   "id": "7303a58cf7682b74",
   "outputs": [],
   "execution_count": 6
  },
  {
   "metadata": {
    "ExecuteTime": {
     "end_time": "2025-04-28T09:02:10.854839Z",
     "start_time": "2025-04-28T09:02:10.848410Z"
    }
   },
   "cell_type": "code",
   "source": "Y.shape",
   "id": "c3fb486cc5cba73c",
   "outputs": [
    {
     "data": {
      "text/plain": [
       "(9520, 70)"
      ]
     },
     "execution_count": 5,
     "metadata": {},
     "output_type": "execute_result"
    }
   ],
   "execution_count": 5
  },
  {
   "metadata": {
    "ExecuteTime": {
     "end_time": "2025-04-27T17:16:18.340295Z",
     "start_time": "2025-04-27T17:15:34.485845Z"
    }
   },
   "cell_type": "code",
   "source": "model = get_model(1000, X_trans, Y_trans)",
   "id": "c59204c575c871e3",
   "outputs": [],
   "execution_count": 10
  },
  {
   "metadata": {},
   "cell_type": "code",
   "outputs": [],
   "execution_count": null,
   "source": [
    "#plot_model(model)\n",
    "X_test, Y_test = read_simulation(f\"{DATASET_PATH}/test/1\")\n",
    "Y_pred = scaler.inverse_transform(np.concatenate([model.predict(scaler.transform(X_test), verbose=0), np.zeros((X_test.shape[0], X_test.shape[1]-Y_test.shape[1]))], axis=1))\n",
    "for i in range(10):\n",
    "    draw_prediction(Y_test, Y_pred, i)\n"
   ],
   "id": "728ab26cb2373195"
  },
  {
   "metadata": {},
   "cell_type": "code",
   "source": "plot_model(get_model(N_NEURAL, X_trans, Y_trans, i, f\"../models/{DATASET_NAME}\"))",
   "id": "8fd6f04be8fad75c",
   "outputs": [],
   "execution_count": null
  },
  {
   "metadata": {
    "ExecuteTime": {
     "end_time": "2025-04-27T17:58:56.757363Z",
     "start_time": "2025-04-27T17:58:52.611723Z"
    }
   },
   "cell_type": "code",
   "source": [
    "X_test, Y_test = read_simulation(f\"{DATASET_PATH}/test/1\")\n",
    "X_test = X_test[:30, :]\n",
    "Y_test = Y_test[:30, :]\n",
    "Y_pred = moving_predict(X_test, model, scaler)\n",
    "for i in range(10):\n",
    "    draw_prediction(Y_test, Y_pred, i)"
   ],
   "id": "c365e3b84076ef49",
   "outputs": [
    {
     "name": "stdout",
     "output_type": "stream",
     "text": [
      "0\n",
      "1\n",
      "2\n",
      "3\n",
      "4\n",
      "5\n",
      "6\n",
      "7\n",
      "8\n",
      "9\n",
      "10\n",
      "11\n",
      "12\n",
      "13\n",
      "14\n",
      "15\n",
      "16\n",
      "17\n",
      "18\n",
      "19\n",
      "20\n",
      "21\n",
      "22\n",
      "23\n",
      "24\n",
      "25\n",
      "26\n",
      "27\n",
      "28\n"
     ]
    },
    {
     "ename": "NameError",
     "evalue": "name 'draw_prediction' is not defined",
     "output_type": "error",
     "traceback": [
      "\u001B[31m---------------------------------------------------------------------------\u001B[39m",
      "\u001B[31mNameError\u001B[39m                                 Traceback (most recent call last)",
      "\u001B[36mCell\u001B[39m\u001B[36m \u001B[39m\u001B[32mIn[30]\u001B[39m\u001B[32m, line 6\u001B[39m\n\u001B[32m      4\u001B[39m Y_pred = moving_predict(X_test, model, scaler)\n\u001B[32m      5\u001B[39m \u001B[38;5;28;01mfor\u001B[39;00m i \u001B[38;5;129;01min\u001B[39;00m \u001B[38;5;28mrange\u001B[39m(\u001B[32m10\u001B[39m):\n\u001B[32m----> \u001B[39m\u001B[32m6\u001B[39m     \u001B[43mdraw_prediction\u001B[49m(Y_test, Y_pred, i)\n",
      "\u001B[31mNameError\u001B[39m: name 'draw_prediction' is not defined"
     ]
    }
   ],
   "execution_count": 30
  }
 ],
 "metadata": {
  "kernelspec": {
   "display_name": "Python 3",
   "language": "python",
   "name": "python3"
  },
  "language_info": {
   "codemirror_mode": {
    "name": "ipython",
    "version": 2
   },
   "file_extension": ".py",
   "mimetype": "text/x-python",
   "name": "python",
   "nbconvert_exporter": "python",
   "pygments_lexer": "ipython2",
   "version": "2.7.6"
  }
 },
 "nbformat": 4,
 "nbformat_minor": 5
}
